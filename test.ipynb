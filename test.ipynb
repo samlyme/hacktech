{
 "cells": [
  {
   "cell_type": "code",
   "execution_count": 3,
   "id": "519c09a3",
   "metadata": {},
   "outputs": [
    {
     "name": "stdout",
     "output_type": "stream",
     "text": [
      "✅ PyTorch imported — version: 2.6.0+cu124\n",
      "✅ CUDA is available.\n",
      "   ‣ CUDA runtime (from wheel): 12.4\n",
      "   ‣ Number of visible GPUs  : 1\n",
      "   ‣ GPU 0 name              : NVIDIA GeForce RTX 4070 Laptop GPU\n",
      "   ‣ Compute capability      : 8.9\n",
      "   ‣ Total memory (GiB)      : 8.0\n"
     ]
    }
   ],
   "source": [
    "def torch_cuda_diagnostics():\n",
    "    try:\n",
    "        import torch\n",
    "    except ImportError:\n",
    "        print(\"❌ PyTorch is NOT installed in this environment.\")\n",
    "        return\n",
    "\n",
    "    print(f\"✅ PyTorch imported — version: {torch.__version__}\")\n",
    "\n",
    "    if torch.cuda.is_available():\n",
    "        print(\"✅ CUDA is available.\")\n",
    "        print(f\"   ‣ CUDA runtime (from wheel): {torch.version.cuda}\")\n",
    "        print(f\"   ‣ Number of visible GPUs  : {torch.cuda.device_count()}\")\n",
    "        # Grab information about the first device\n",
    "        dev = torch.cuda.get_device_properties(0)\n",
    "        print(f\"   ‣ GPU 0 name              : {dev.name}\")\n",
    "        print(f\"   ‣ Compute capability      : {dev.major}.{dev.minor}\")\n",
    "        print(f\"   ‣ Total memory (GiB)      : {dev.total_memory / 2**30:.1f}\")\n",
    "    else:\n",
    "        # Torch loaded, but either no GPU or wrong wheel (CPU-only build)\n",
    "        print(\"⚠️  CUDA NOT available. Possible reasons:\")\n",
    "        print(\"   • No NVIDIA GPU/drivers detected\")\n",
    "        print(\"   • Driver too old for the wheel's CUDA version\")\n",
    "        print(\"   • Installed the CPU-only torch wheel\")\n",
    "\n",
    "if __name__ == \"__main__\":\n",
    "    torch_cuda_diagnostics()\n"
   ]
  },
  {
   "cell_type": "markdown",
   "id": "1792f645",
   "metadata": {},
   "source": [
    "## Download EDF"
   ]
  },
  {
   "cell_type": "code",
   "execution_count": 15,
   "id": "513c2eb9",
   "metadata": {},
   "outputs": [
    {
     "name": "stdout",
     "output_type": "stream",
     "text": [
      "[ 0.00273136  0.00343328  0.00294499 ...  0.00178531 -0.0016022\n",
      " -0.00218204]\n",
      "[0.03254749 0.03282216 0.03334096 ... 0.0142977  0.01350423 0.0127718 ]\n"
     ]
    }
   ],
   "source": [
    "from pathlib import Path\n",
    "import pyedflib\n",
    "import numpy as np\n",
    "\n",
    "# 1. Build the path safely\n",
    "edf_path = Path(r\"C:\\Users\\blend\\Desktop\\CS\\hacktech\\data\\00000995-100507[001].edf\")   # raw-string or forward slashes\n",
    "\n",
    "# 2. (Optional) sanity check before opening\n",
    "if not edf_path.exists():\n",
    "    raise FileNotFoundError(edf_path)\n",
    "\n",
    "# 3. Open as before\n",
    "with pyedflib.EdfReader(str(edf_path)) as f:\n",
    "    labels = f.getSignalLabels()\n",
    "    sigbufs = {lbl: f.readSignal(i) for i, lbl in enumerate(labels)}\n",
    "\n",
    "print(sigbufs['Tracheal'])\n",
    "print(sigbufs['Mic'])"
   ]
  },
  {
   "cell_type": "markdown",
   "id": "549df752",
   "metadata": {},
   "source": [
    "## Read RML"
   ]
  },
  {
   "cell_type": "code",
   "execution_count": 21,
   "id": "a132679d",
   "metadata": {},
   "outputs": [
    {
     "ename": "FileNotFoundError",
     "evalue": "[Errno 2] No such file or directory: '00000995-100507.rml'",
     "output_type": "error",
     "traceback": [
      "\u001b[31m---------------------------------------------------------------------------\u001b[39m",
      "\u001b[31mFileNotFoundError\u001b[39m                         Traceback (most recent call last)",
      "\u001b[36mCell\u001b[39m\u001b[36m \u001b[39m\u001b[32mIn[21]\u001b[39m\u001b[32m, line 15\u001b[39m\n\u001b[32m     12\u001b[39m         \u001b[38;5;28;01mreturn\u001b[39;00m \u001b[33m\"\u001b[39m\u001b[33mrdf_mapping\u001b[39m\u001b[33m\"\u001b[39m\n\u001b[32m     13\u001b[39m     \u001b[38;5;28;01mreturn\u001b[39;00m \u001b[33m\"\u001b[39m\u001b[33msleepware\u001b[39m\u001b[33m\"\u001b[39m \u001b[38;5;28;01mif\u001b[39;00m \u001b[33mb\u001b[39m\u001b[33m\"\u001b[39m\u001b[38;5;130;01m\\x00\u001b[39;00m\u001b[38;5;130;01m\\x00\u001b[39;00m\u001b[38;5;130;01m\\x00\u001b[39;00m\u001b[33m\"\u001b[39m \u001b[38;5;129;01min\u001b[39;00m h \u001b[38;5;28;01melse\u001b[39;00m \u001b[33m\"\u001b[39m\u001b[33munknown\u001b[39m\u001b[33m\"\u001b[39m\n\u001b[32m---> \u001b[39m\u001b[32m15\u001b[39m \u001b[38;5;28mprint\u001b[39m(\u001b[43mguess_rml\u001b[49m\u001b[43m(\u001b[49m\u001b[33;43m\"\u001b[39;49m\u001b[33;43m00000995-100507.rml\u001b[39;49m\u001b[33;43m\"\u001b[39;49m\u001b[43m)\u001b[49m)\n",
      "\u001b[36mCell\u001b[39m\u001b[36m \u001b[39m\u001b[32mIn[21]\u001b[39m\u001b[32m, line 2\u001b[39m, in \u001b[36mguess_rml\u001b[39m\u001b[34m(path)\u001b[39m\n\u001b[32m      1\u001b[39m \u001b[38;5;28;01mdef\u001b[39;00m\u001b[38;5;250m \u001b[39m\u001b[34mguess_rml\u001b[39m(path):\n\u001b[32m----> \u001b[39m\u001b[32m2\u001b[39m     h = \u001b[38;5;28;43mopen\u001b[39;49m\u001b[43m(\u001b[49m\u001b[43mpath\u001b[49m\u001b[43m,\u001b[49m\u001b[43m \u001b[49m\u001b[33;43m'\u001b[39;49m\u001b[33;43mrb\u001b[39;49m\u001b[33;43m'\u001b[39;49m\u001b[43m)\u001b[49m.read(\u001b[32m512\u001b[39m)\n\u001b[32m      3\u001b[39m     \u001b[38;5;28;01mtry\u001b[39;00m:\n\u001b[32m      4\u001b[39m         txt = h.decode(\u001b[33m'\u001b[39m\u001b[33mlatin1\u001b[39m\u001b[33m'\u001b[39m)\n",
      "\u001b[36mFile \u001b[39m\u001b[32mc:\\Users\\blend\\anaconda3\\envs\\hacktech\\Lib\\site-packages\\IPython\\core\\interactiveshell.py:326\u001b[39m, in \u001b[36m_modified_open\u001b[39m\u001b[34m(file, *args, **kwargs)\u001b[39m\n\u001b[32m    319\u001b[39m \u001b[38;5;28;01mif\u001b[39;00m file \u001b[38;5;129;01min\u001b[39;00m {\u001b[32m0\u001b[39m, \u001b[32m1\u001b[39m, \u001b[32m2\u001b[39m}:\n\u001b[32m    320\u001b[39m     \u001b[38;5;28;01mraise\u001b[39;00m \u001b[38;5;167;01mValueError\u001b[39;00m(\n\u001b[32m    321\u001b[39m         \u001b[33mf\u001b[39m\u001b[33m\"\u001b[39m\u001b[33mIPython won\u001b[39m\u001b[33m'\u001b[39m\u001b[33mt let you open fd=\u001b[39m\u001b[38;5;132;01m{\u001b[39;00mfile\u001b[38;5;132;01m}\u001b[39;00m\u001b[33m by default \u001b[39m\u001b[33m\"\u001b[39m\n\u001b[32m    322\u001b[39m         \u001b[33m\"\u001b[39m\u001b[33mas it is likely to crash IPython. If you know what you are doing, \u001b[39m\u001b[33m\"\u001b[39m\n\u001b[32m    323\u001b[39m         \u001b[33m\"\u001b[39m\u001b[33myou can use builtins\u001b[39m\u001b[33m'\u001b[39m\u001b[33m open.\u001b[39m\u001b[33m\"\u001b[39m\n\u001b[32m    324\u001b[39m     )\n\u001b[32m--> \u001b[39m\u001b[32m326\u001b[39m \u001b[38;5;28;01mreturn\u001b[39;00m \u001b[43mio_open\u001b[49m\u001b[43m(\u001b[49m\u001b[43mfile\u001b[49m\u001b[43m,\u001b[49m\u001b[43m \u001b[49m\u001b[43m*\u001b[49m\u001b[43margs\u001b[49m\u001b[43m,\u001b[49m\u001b[43m \u001b[49m\u001b[43m*\u001b[49m\u001b[43m*\u001b[49m\u001b[43mkwargs\u001b[49m\u001b[43m)\u001b[49m\n",
      "\u001b[31mFileNotFoundError\u001b[39m: [Errno 2] No such file or directory: '00000995-100507.rml'"
     ]
    }
   ],
   "source": [
    "def guess_rml(path):\n",
    "    h = open(path, 'rb').read(512)\n",
    "    try:\n",
    "        txt = h.decode('latin1')\n",
    "    except UnicodeDecodeError:\n",
    "        return \"binary\"\n",
    "    if \"<documentTemplate\" in txt:\n",
    "        return \"reportlab\"\n",
    "    if \"<markup\" in txt:\n",
    "        return \"cad_redline\"\n",
    "    if \"@prefix\" in txt and \" rr:\" in txt:\n",
    "        return \"rdf_mapping\"\n",
    "    return \"sleepware\" if b\"\\x00\\x00\\x00\" in h else \"unknown\"\n",
    "\n",
    "print(guess_rml(\"00000995-100507.rml\"))\n"
   ]
  }
 ],
 "metadata": {
  "kernelspec": {
   "display_name": "hacktech",
   "language": "python",
   "name": "python3"
  },
  "language_info": {
   "codemirror_mode": {
    "name": "ipython",
    "version": 3
   },
   "file_extension": ".py",
   "mimetype": "text/x-python",
   "name": "python",
   "nbconvert_exporter": "python",
   "pygments_lexer": "ipython3",
   "version": "3.11.11"
  }
 },
 "nbformat": 4,
 "nbformat_minor": 5
}
