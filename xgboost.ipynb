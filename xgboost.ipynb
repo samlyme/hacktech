{
 "cells": [
  {
   "cell_type": "code",
   "execution_count": 1,
   "id": "ee14416f",
   "metadata": {},
   "outputs": [],
   "source": [
    "import pandas as pd\n",
    "import numpy as np\n",
    "\n",
    "# 1. load\n",
    "df = pd.read_csv('signal.csv')\n",
    "\n",
    "# 2. integer‐divide the row index by 48 000 to get a group ID\n",
    "group_id = np.arange(len(df)) // 48000\n",
    "\n",
    "# 3. group & aggregate\n",
    "#    – numeric columns (e.g. Tracheal, Mic) will be averaged\n",
    "#    – if you have binary labels (nasal, resp) you probably want max()\n",
    "agg = df.groupby(group_id).agg({\n",
    "    'Tracheal': 'mean',\n",
    "    'Mic':      'mean',\n",
    "    'nasal':    'max',\n",
    "    'resp':     'max',\n",
    "})\n",
    "\n",
    "# 4. (optional) reset the index so it’s back to 0,1,2…\n",
    "agg = agg.reset_index(drop=True)\n",
    "\n",
    "# 5. save\n",
    "agg.to_csv('signal_compressed.csv', index=False)\n"
   ]
  },
  {
   "cell_type": "code",
   "execution_count": 3,
   "id": "ce22a5c7",
   "metadata": {},
   "outputs": [
    {
     "name": "stdout",
     "output_type": "stream",
     "text": [
      "\n",
      "=== Nasal ===\n",
      "Accuracy:  0.8652777777777778\n",
      "Precision: 0.3448275862068966\n",
      "Recall:    0.11363636363636363\n",
      "F1:        0.17094017094017094\n",
      "ROC AUC:   0.60814334004603\n",
      "\n",
      "=== Respir ===\n",
      "Accuracy:  0.8416666666666667\n",
      "Precision: 0.3076923076923077\n",
      "Recall:    0.07692307692307693\n",
      "F1:        0.12307692307692308\n",
      "ROC AUC:   0.5443150599400599\n"
     ]
    },
    {
     "name": "stderr",
     "output_type": "stream",
     "text": [
      "c:\\Users\\blend\\anaconda3\\envs\\XgBoost\\lib\\site-packages\\xgboost\\core.py:158: UserWarning: [15:24:14] WARNING: C:\\b\\abs_90_bwj_86a\\croot\\xgboost-split_1724073762025\\work\\src\\learner.cc:740: \n",
      "Parameters: { \"use_label_encoder\" } are not used.\n",
      "\n",
      "  warnings.warn(smsg, UserWarning)\n",
      "c:\\Users\\blend\\anaconda3\\envs\\XgBoost\\lib\\site-packages\\xgboost\\core.py:158: UserWarning: [15:24:14] WARNING: C:\\b\\abs_90_bwj_86a\\croot\\xgboost-split_1724073762025\\work\\src\\learner.cc:740: \n",
      "Parameters: { \"use_label_encoder\" } are not used.\n",
      "\n",
      "  warnings.warn(smsg, UserWarning)\n"
     ]
    }
   ],
   "source": [
    "from sklearn.multioutput import MultiOutputClassifier\n",
    "from sklearn.model_selection import train_test_split\n",
    "from sklearn.metrics import accuracy_score, precision_score, recall_score, f1_score, roc_auc_score\n",
    "import xgboost as xgb\n",
    "import pandas as pd\n",
    "\n",
    "data = pd.read_csv(\"signal_compressed.csv\")\n",
    "X = data.drop(['nasal','resp'], axis=1)\n",
    "y = data[['nasal','resp']]\n",
    "\n",
    "X_train, X_test, y_train, y_test = train_test_split(\n",
    "    X, y, test_size=0.2, random_state=42\n",
    ")\n",
    "\n",
    "base_clf = xgb.XGBClassifier(use_label_encoder=False, eval_metric='logloss')\n",
    "model = MultiOutputClassifier(base_clf)\n",
    "\n",
    "model.fit(X_train, y_train)\n",
    "\n",
    "# predict\n",
    "y_pred      = model.predict(X_test)        # shape (n_samples, 2)\n",
    "y_pred_prob = model.predict_proba(X_test)  # list of two (n_samples,2) arrays\n",
    "\n",
    "# split predictions\n",
    "y_n_pred      = y_pred[:,0]\n",
    "y_n_pred_prob = y_pred_prob[0][:,1]\n",
    "y_r_pred      = y_pred[:,1]\n",
    "y_r_pred_prob = y_pred_prob[1][:,1]\n",
    "\n",
    "# metrics\n",
    "for name, y_true, y_p, y_pp in [\n",
    "    ('Nasal',  y_test['nasal'], y_n_pred, y_n_pred_prob),\n",
    "    ('Respir', y_test['resp'],  y_r_pred, y_r_pred_prob),\n",
    "]:\n",
    "    print(f\"\\n=== {name} ===\")\n",
    "    print(\"Accuracy: \", accuracy_score(y_true, y_p))\n",
    "    print(\"Precision:\", precision_score(y_true, y_p))\n",
    "    print(\"Recall:   \", recall_score(y_true, y_p))\n",
    "    print(\"F1:       \", f1_score(y_true, y_p))\n",
    "    print(\"ROC AUC:  \", roc_auc_score(y_true, y_pp))\n"
   ]
  }
 ],
 "metadata": {
  "kernelspec": {
   "display_name": "XgBoost",
   "language": "python",
   "name": "python3"
  },
  "language_info": {
   "codemirror_mode": {
    "name": "ipython",
    "version": 3
   },
   "file_extension": ".py",
   "mimetype": "text/x-python",
   "name": "python",
   "nbconvert_exporter": "python",
   "pygments_lexer": "ipython3",
   "version": "3.8.20"
  }
 },
 "nbformat": 4,
 "nbformat_minor": 5
}
